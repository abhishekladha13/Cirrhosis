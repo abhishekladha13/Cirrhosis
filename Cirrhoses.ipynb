{
 "cells": [
  {
   "cell_type": "code",
   "execution_count": 1,
   "id": "3b1f98e4",
   "metadata": {},
   "outputs": [],
   "source": [
    "import pandas as pd\n",
    "import numpy as np\n",
    "import matplotlib.pyplot as plt\n",
    "import seaborn as sns\n",
    "import warnings\n",
    "warnings.filterwarnings(\"ignore\")"
   ]
  },
  {
   "cell_type": "code",
   "execution_count": 2,
   "id": "12614aa9",
   "metadata": {},
   "outputs": [
    {
     "data": {
      "text/html": [
       "<div>\n",
       "<style scoped>\n",
       "    .dataframe tbody tr th:only-of-type {\n",
       "        vertical-align: middle;\n",
       "    }\n",
       "\n",
       "    .dataframe tbody tr th {\n",
       "        vertical-align: top;\n",
       "    }\n",
       "\n",
       "    .dataframe thead th {\n",
       "        text-align: right;\n",
       "    }\n",
       "</style>\n",
       "<table border=\"1\" class=\"dataframe\">\n",
       "  <thead>\n",
       "    <tr style=\"text-align: right;\">\n",
       "      <th></th>\n",
       "      <th>ID</th>\n",
       "      <th>N_Days</th>\n",
       "      <th>Status</th>\n",
       "      <th>Drug</th>\n",
       "      <th>Age</th>\n",
       "      <th>Sex</th>\n",
       "      <th>Ascites</th>\n",
       "      <th>Hepatomegaly</th>\n",
       "      <th>Spiders</th>\n",
       "      <th>Edema</th>\n",
       "      <th>Bilirubin</th>\n",
       "      <th>Cholesterol</th>\n",
       "      <th>Albumin</th>\n",
       "      <th>Copper</th>\n",
       "      <th>Alk_Phos</th>\n",
       "      <th>SGOT</th>\n",
       "      <th>Tryglicerides</th>\n",
       "      <th>Platelets</th>\n",
       "      <th>Prothrombin</th>\n",
       "      <th>Stage</th>\n",
       "    </tr>\n",
       "  </thead>\n",
       "  <tbody>\n",
       "    <tr>\n",
       "      <th>0</th>\n",
       "      <td>1</td>\n",
       "      <td>400</td>\n",
       "      <td>D</td>\n",
       "      <td>D-penicillamine</td>\n",
       "      <td>21464</td>\n",
       "      <td>F</td>\n",
       "      <td>Y</td>\n",
       "      <td>Y</td>\n",
       "      <td>Y</td>\n",
       "      <td>Y</td>\n",
       "      <td>14.5</td>\n",
       "      <td>261.0</td>\n",
       "      <td>2.60</td>\n",
       "      <td>156.0</td>\n",
       "      <td>1718.0</td>\n",
       "      <td>137.95</td>\n",
       "      <td>172.0</td>\n",
       "      <td>190.0</td>\n",
       "      <td>12.2</td>\n",
       "      <td>4.0</td>\n",
       "    </tr>\n",
       "    <tr>\n",
       "      <th>1</th>\n",
       "      <td>2</td>\n",
       "      <td>4500</td>\n",
       "      <td>C</td>\n",
       "      <td>D-penicillamine</td>\n",
       "      <td>20617</td>\n",
       "      <td>F</td>\n",
       "      <td>N</td>\n",
       "      <td>Y</td>\n",
       "      <td>Y</td>\n",
       "      <td>N</td>\n",
       "      <td>1.1</td>\n",
       "      <td>302.0</td>\n",
       "      <td>4.14</td>\n",
       "      <td>54.0</td>\n",
       "      <td>7394.8</td>\n",
       "      <td>113.52</td>\n",
       "      <td>88.0</td>\n",
       "      <td>221.0</td>\n",
       "      <td>10.6</td>\n",
       "      <td>3.0</td>\n",
       "    </tr>\n",
       "    <tr>\n",
       "      <th>2</th>\n",
       "      <td>3</td>\n",
       "      <td>1012</td>\n",
       "      <td>D</td>\n",
       "      <td>D-penicillamine</td>\n",
       "      <td>25594</td>\n",
       "      <td>M</td>\n",
       "      <td>N</td>\n",
       "      <td>N</td>\n",
       "      <td>N</td>\n",
       "      <td>S</td>\n",
       "      <td>1.4</td>\n",
       "      <td>176.0</td>\n",
       "      <td>3.48</td>\n",
       "      <td>210.0</td>\n",
       "      <td>516.0</td>\n",
       "      <td>96.10</td>\n",
       "      <td>55.0</td>\n",
       "      <td>151.0</td>\n",
       "      <td>12.0</td>\n",
       "      <td>4.0</td>\n",
       "    </tr>\n",
       "    <tr>\n",
       "      <th>3</th>\n",
       "      <td>4</td>\n",
       "      <td>1925</td>\n",
       "      <td>D</td>\n",
       "      <td>D-penicillamine</td>\n",
       "      <td>19994</td>\n",
       "      <td>F</td>\n",
       "      <td>N</td>\n",
       "      <td>Y</td>\n",
       "      <td>Y</td>\n",
       "      <td>S</td>\n",
       "      <td>1.8</td>\n",
       "      <td>244.0</td>\n",
       "      <td>2.54</td>\n",
       "      <td>64.0</td>\n",
       "      <td>6121.8</td>\n",
       "      <td>60.63</td>\n",
       "      <td>92.0</td>\n",
       "      <td>183.0</td>\n",
       "      <td>10.3</td>\n",
       "      <td>4.0</td>\n",
       "    </tr>\n",
       "    <tr>\n",
       "      <th>4</th>\n",
       "      <td>5</td>\n",
       "      <td>1504</td>\n",
       "      <td>CL</td>\n",
       "      <td>Placebo</td>\n",
       "      <td>13918</td>\n",
       "      <td>F</td>\n",
       "      <td>N</td>\n",
       "      <td>Y</td>\n",
       "      <td>Y</td>\n",
       "      <td>N</td>\n",
       "      <td>3.4</td>\n",
       "      <td>279.0</td>\n",
       "      <td>3.53</td>\n",
       "      <td>143.0</td>\n",
       "      <td>671.0</td>\n",
       "      <td>113.15</td>\n",
       "      <td>72.0</td>\n",
       "      <td>136.0</td>\n",
       "      <td>10.9</td>\n",
       "      <td>3.0</td>\n",
       "    </tr>\n",
       "    <tr>\n",
       "      <th>...</th>\n",
       "      <td>...</td>\n",
       "      <td>...</td>\n",
       "      <td>...</td>\n",
       "      <td>...</td>\n",
       "      <td>...</td>\n",
       "      <td>...</td>\n",
       "      <td>...</td>\n",
       "      <td>...</td>\n",
       "      <td>...</td>\n",
       "      <td>...</td>\n",
       "      <td>...</td>\n",
       "      <td>...</td>\n",
       "      <td>...</td>\n",
       "      <td>...</td>\n",
       "      <td>...</td>\n",
       "      <td>...</td>\n",
       "      <td>...</td>\n",
       "      <td>...</td>\n",
       "      <td>...</td>\n",
       "      <td>...</td>\n",
       "    </tr>\n",
       "    <tr>\n",
       "      <th>413</th>\n",
       "      <td>414</td>\n",
       "      <td>681</td>\n",
       "      <td>D</td>\n",
       "      <td>NaN</td>\n",
       "      <td>24472</td>\n",
       "      <td>F</td>\n",
       "      <td>NaN</td>\n",
       "      <td>NaN</td>\n",
       "      <td>NaN</td>\n",
       "      <td>N</td>\n",
       "      <td>1.2</td>\n",
       "      <td>NaN</td>\n",
       "      <td>2.96</td>\n",
       "      <td>NaN</td>\n",
       "      <td>NaN</td>\n",
       "      <td>NaN</td>\n",
       "      <td>NaN</td>\n",
       "      <td>174.0</td>\n",
       "      <td>10.9</td>\n",
       "      <td>3.0</td>\n",
       "    </tr>\n",
       "    <tr>\n",
       "      <th>414</th>\n",
       "      <td>415</td>\n",
       "      <td>1103</td>\n",
       "      <td>C</td>\n",
       "      <td>NaN</td>\n",
       "      <td>14245</td>\n",
       "      <td>F</td>\n",
       "      <td>NaN</td>\n",
       "      <td>NaN</td>\n",
       "      <td>NaN</td>\n",
       "      <td>N</td>\n",
       "      <td>0.9</td>\n",
       "      <td>NaN</td>\n",
       "      <td>3.83</td>\n",
       "      <td>NaN</td>\n",
       "      <td>NaN</td>\n",
       "      <td>NaN</td>\n",
       "      <td>NaN</td>\n",
       "      <td>180.0</td>\n",
       "      <td>11.2</td>\n",
       "      <td>4.0</td>\n",
       "    </tr>\n",
       "    <tr>\n",
       "      <th>415</th>\n",
       "      <td>416</td>\n",
       "      <td>1055</td>\n",
       "      <td>C</td>\n",
       "      <td>NaN</td>\n",
       "      <td>20819</td>\n",
       "      <td>F</td>\n",
       "      <td>NaN</td>\n",
       "      <td>NaN</td>\n",
       "      <td>NaN</td>\n",
       "      <td>N</td>\n",
       "      <td>1.6</td>\n",
       "      <td>NaN</td>\n",
       "      <td>3.42</td>\n",
       "      <td>NaN</td>\n",
       "      <td>NaN</td>\n",
       "      <td>NaN</td>\n",
       "      <td>NaN</td>\n",
       "      <td>143.0</td>\n",
       "      <td>9.9</td>\n",
       "      <td>3.0</td>\n",
       "    </tr>\n",
       "    <tr>\n",
       "      <th>416</th>\n",
       "      <td>417</td>\n",
       "      <td>691</td>\n",
       "      <td>C</td>\n",
       "      <td>NaN</td>\n",
       "      <td>21185</td>\n",
       "      <td>F</td>\n",
       "      <td>NaN</td>\n",
       "      <td>NaN</td>\n",
       "      <td>NaN</td>\n",
       "      <td>N</td>\n",
       "      <td>0.8</td>\n",
       "      <td>NaN</td>\n",
       "      <td>3.75</td>\n",
       "      <td>NaN</td>\n",
       "      <td>NaN</td>\n",
       "      <td>NaN</td>\n",
       "      <td>NaN</td>\n",
       "      <td>269.0</td>\n",
       "      <td>10.4</td>\n",
       "      <td>3.0</td>\n",
       "    </tr>\n",
       "    <tr>\n",
       "      <th>417</th>\n",
       "      <td>418</td>\n",
       "      <td>976</td>\n",
       "      <td>C</td>\n",
       "      <td>NaN</td>\n",
       "      <td>19358</td>\n",
       "      <td>F</td>\n",
       "      <td>NaN</td>\n",
       "      <td>NaN</td>\n",
       "      <td>NaN</td>\n",
       "      <td>N</td>\n",
       "      <td>0.7</td>\n",
       "      <td>NaN</td>\n",
       "      <td>3.29</td>\n",
       "      <td>NaN</td>\n",
       "      <td>NaN</td>\n",
       "      <td>NaN</td>\n",
       "      <td>NaN</td>\n",
       "      <td>350.0</td>\n",
       "      <td>10.6</td>\n",
       "      <td>4.0</td>\n",
       "    </tr>\n",
       "  </tbody>\n",
       "</table>\n",
       "<p>418 rows × 20 columns</p>\n",
       "</div>"
      ],
      "text/plain": [
       "      ID  N_Days Status             Drug    Age Sex Ascites Hepatomegaly  \\\n",
       "0      1     400      D  D-penicillamine  21464   F       Y            Y   \n",
       "1      2    4500      C  D-penicillamine  20617   F       N            Y   \n",
       "2      3    1012      D  D-penicillamine  25594   M       N            N   \n",
       "3      4    1925      D  D-penicillamine  19994   F       N            Y   \n",
       "4      5    1504     CL          Placebo  13918   F       N            Y   \n",
       "..   ...     ...    ...              ...    ...  ..     ...          ...   \n",
       "413  414     681      D              NaN  24472   F     NaN          NaN   \n",
       "414  415    1103      C              NaN  14245   F     NaN          NaN   \n",
       "415  416    1055      C              NaN  20819   F     NaN          NaN   \n",
       "416  417     691      C              NaN  21185   F     NaN          NaN   \n",
       "417  418     976      C              NaN  19358   F     NaN          NaN   \n",
       "\n",
       "    Spiders Edema  Bilirubin  Cholesterol  Albumin  Copper  Alk_Phos    SGOT  \\\n",
       "0         Y     Y       14.5        261.0     2.60   156.0    1718.0  137.95   \n",
       "1         Y     N        1.1        302.0     4.14    54.0    7394.8  113.52   \n",
       "2         N     S        1.4        176.0     3.48   210.0     516.0   96.10   \n",
       "3         Y     S        1.8        244.0     2.54    64.0    6121.8   60.63   \n",
       "4         Y     N        3.4        279.0     3.53   143.0     671.0  113.15   \n",
       "..      ...   ...        ...          ...      ...     ...       ...     ...   \n",
       "413     NaN     N        1.2          NaN     2.96     NaN       NaN     NaN   \n",
       "414     NaN     N        0.9          NaN     3.83     NaN       NaN     NaN   \n",
       "415     NaN     N        1.6          NaN     3.42     NaN       NaN     NaN   \n",
       "416     NaN     N        0.8          NaN     3.75     NaN       NaN     NaN   \n",
       "417     NaN     N        0.7          NaN     3.29     NaN       NaN     NaN   \n",
       "\n",
       "     Tryglicerides  Platelets  Prothrombin  Stage  \n",
       "0            172.0      190.0         12.2    4.0  \n",
       "1             88.0      221.0         10.6    3.0  \n",
       "2             55.0      151.0         12.0    4.0  \n",
       "3             92.0      183.0         10.3    4.0  \n",
       "4             72.0      136.0         10.9    3.0  \n",
       "..             ...        ...          ...    ...  \n",
       "413            NaN      174.0         10.9    3.0  \n",
       "414            NaN      180.0         11.2    4.0  \n",
       "415            NaN      143.0          9.9    3.0  \n",
       "416            NaN      269.0         10.4    3.0  \n",
       "417            NaN      350.0         10.6    4.0  \n",
       "\n",
       "[418 rows x 20 columns]"
      ]
     },
     "execution_count": 2,
     "metadata": {},
     "output_type": "execute_result"
    }
   ],
   "source": [
    "df = pd.read_csv(r'C:\\Users\\abhis\\Downloads\\archive (19)\\cirrhosis.csv')\n",
    "df"
   ]
  },
  {
   "cell_type": "code",
   "execution_count": 3,
   "id": "8418b44e",
   "metadata": {},
   "outputs": [
    {
     "data": {
      "text/html": [
       "<div>\n",
       "<style scoped>\n",
       "    .dataframe tbody tr th:only-of-type {\n",
       "        vertical-align: middle;\n",
       "    }\n",
       "\n",
       "    .dataframe tbody tr th {\n",
       "        vertical-align: top;\n",
       "    }\n",
       "\n",
       "    .dataframe thead th {\n",
       "        text-align: right;\n",
       "    }\n",
       "</style>\n",
       "<table border=\"1\" class=\"dataframe\">\n",
       "  <thead>\n",
       "    <tr style=\"text-align: right;\">\n",
       "      <th></th>\n",
       "      <th>ID</th>\n",
       "      <th>N_Days</th>\n",
       "      <th>Status</th>\n",
       "      <th>Drug</th>\n",
       "      <th>Age</th>\n",
       "      <th>Sex</th>\n",
       "      <th>Ascites</th>\n",
       "      <th>Hepatomegaly</th>\n",
       "      <th>Spiders</th>\n",
       "      <th>Edema</th>\n",
       "      <th>Bilirubin</th>\n",
       "      <th>Cholesterol</th>\n",
       "      <th>Albumin</th>\n",
       "      <th>Copper</th>\n",
       "      <th>Alk_Phos</th>\n",
       "      <th>SGOT</th>\n",
       "      <th>Tryglicerides</th>\n",
       "      <th>Platelets</th>\n",
       "      <th>Prothrombin</th>\n",
       "      <th>Stage</th>\n",
       "    </tr>\n",
       "  </thead>\n",
       "  <tbody>\n",
       "    <tr>\n",
       "      <th>0</th>\n",
       "      <td>0.0</td>\n",
       "      <td>0.0</td>\n",
       "      <td>0.0</td>\n",
       "      <td>25.358852</td>\n",
       "      <td>0.0</td>\n",
       "      <td>0.0</td>\n",
       "      <td>25.358852</td>\n",
       "      <td>25.358852</td>\n",
       "      <td>25.358852</td>\n",
       "      <td>0.0</td>\n",
       "      <td>0.0</td>\n",
       "      <td>32.057416</td>\n",
       "      <td>0.0</td>\n",
       "      <td>25.837321</td>\n",
       "      <td>25.358852</td>\n",
       "      <td>25.358852</td>\n",
       "      <td>32.535885</td>\n",
       "      <td>2.631579</td>\n",
       "      <td>0.478469</td>\n",
       "      <td>1.435407</td>\n",
       "    </tr>\n",
       "  </tbody>\n",
       "</table>\n",
       "</div>"
      ],
      "text/plain": [
       "    ID  N_Days  Status       Drug  Age  Sex    Ascites  Hepatomegaly  \\\n",
       "0  0.0     0.0     0.0  25.358852  0.0  0.0  25.358852     25.358852   \n",
       "\n",
       "     Spiders  Edema  Bilirubin  Cholesterol  Albumin     Copper   Alk_Phos  \\\n",
       "0  25.358852    0.0        0.0    32.057416      0.0  25.837321  25.358852   \n",
       "\n",
       "        SGOT  Tryglicerides  Platelets  Prothrombin     Stage  \n",
       "0  25.358852      32.535885   2.631579     0.478469  1.435407  "
      ]
     },
     "execution_count": 3,
     "metadata": {},
     "output_type": "execute_result"
    }
   ],
   "source": [
    "#Q1. A) and Q1. B)\n",
    "pd.DataFrame(100*(df.isnull().sum()/df.shape[0])).T"
   ]
  },
  {
   "cell_type": "code",
   "execution_count": 4,
   "id": "828ed337",
   "metadata": {},
   "outputs": [
    {
     "data": {
      "text/plain": [
       "<AxesSubplot:>"
      ]
     },
     "execution_count": 4,
     "metadata": {},
     "output_type": "execute_result"
    },
    {
     "data": {
      "image/png": "[encoded data removed]",
      "text/plain": [
       "<Figure size 432x288 with 2 Axes>"
      ]
     },
     "metadata": {
      "needs_background": "light"
     },
     "output_type": "display_data"
    }
   ],
   "source": [
    "#Q1. C)\n",
    "sns.heatmap(df[['Drug', 'Ascites', 'Hepatomegaly', 'Spiders', 'Copper', 'Alk_Phos','SGOT']].corr(), annot = True, cmap = 'crest')"
   ]
  },
  {
   "cell_type": "code",
   "execution_count": 5,
   "id": "d42c76a7",
   "metadata": {},
   "outputs": [],
   "source": [
    "# Q2 A) how does platelets count vary with age in males and females? show relaltionship using a visualizations "
   ]
  },
  {
   "cell_type": "code",
   "execution_count": 7,
   "id": "638f05b6",
   "metadata": {},
   "outputs": [],
   "source": [
    "df['Age'] = (df['Age'].values/365).round()"
   ]
  },
  {
   "cell_type": "code",
   "execution_count": 8,
   "id": "d74cc001",
   "metadata": {},
   "outputs": [],
   "source": [
    "df['age_bin']=pd.cut(df['Age'], bins = np.arange(20,90,10))"
   ]
  },
  {
   "cell_type": "code",
   "execution_count": 9,
   "id": "dc81a8a7",
   "metadata": {
    "scrolled": true
   },
   "outputs": [
    {
     "data": {
      "image/png": "[encoded data removed]",
      "text/plain": [
       "<Figure size 720x504 with 1 Axes>"
      ]
     },
     "metadata": {
      "needs_background": "light"
     },
     "output_type": "display_data"
    }
   ],
   "source": [
    "temp = df.groupby(['age_bin','Sex'], as_index = False)['Platelets'].mean()\n",
    "plt.figure(figsize = (10,7))\n",
    "sns.barplot(x = temp['age_bin'], y = temp['Platelets'], hue = temp['Sex']);"
   ]
  },
  {
   "cell_type": "code",
   "execution_count": 10,
   "id": "0c0c8f7e",
   "metadata": {},
   "outputs": [
    {
     "name": "stdout",
     "output_type": "stream",
     "text": [
      "AxesSubplot(0.125,0.125;0.352273x0.755)\n",
      "AxesSubplot(0.547727,0.125;0.352273x0.755)\n"
     ]
    },
    {
     "data": {
      "image/png": "[encoded data removed]",
      "text/plain": [
       "<Figure size 1008x288 with 2 Axes>"
      ]
     },
     "metadata": {
      "needs_background": "light"
     },
     "output_type": "display_data"
    }
   ],
   "source": [
    "#Q.2 B)\n",
    "plt.figure(figsize = (14,4))\n",
    "plt.subplot(1,2,1)\n",
    "print(sns.boxplot(x = df['Cholesterol'], data = df))\n",
    "plt.subplot(1,2,2)\n",
    "print(sns.boxplot(x = df['Bilirubin'], data = df))\n",
    "plt.show();"
   ]
  },
  {
   "cell_type": "code",
   "execution_count": 13,
   "id": "6051e923",
   "metadata": {},
   "outputs": [],
   "source": [
    "lc = df['Cholesterol'].quantile(0.25) - 1.5*(df['Cholesterol'].quantile(0.75)-df['Cholesterol'].quantile(0.25))\n",
    "uc = df['Cholesterol'].quantile(0.75) + 1.5*(df['Cholesterol'].quantile(0.75)-df['Cholesterol'].quantile(0.25))\n",
    "c = df['Cholesterol']\n",
    "c = np.where(c>uc, uc, np.where(c<lc, lc, c))\n",
    "df['Cholesterol'] = pd.DataFrame(c)"
   ]
  },
  {
   "cell_type": "code",
   "execution_count": 14,
   "id": "0e14f62c",
   "metadata": {},
   "outputs": [],
   "source": [
    "lb = df['Bilirubin'].quantile(0.25) - 1.5*(df['Bilirubin'].quantile(0.75)-df['Bilirubin'].quantile(0.25))\n",
    "ub = df['Bilirubin'].quantile(0.75) + 1.5*(df['Bilirubin'].quantile(0.75)-df['Bilirubin'].quantile(0.25))\n",
    "f = df['Bilirubin']\n",
    "f = np.where(f>ub, ub, np.where(f<lb, lb, f))\n",
    "df['Bilirubin'] = pd.DataFrame(f)"
   ]
  },
  {
   "cell_type": "code",
   "execution_count": 16,
   "id": "89cf64da",
   "metadata": {},
   "outputs": [
    {
     "data": {
      "image/png": "[encoded data removed]",
      "text/plain": [
       "<Figure size 1080x288 with 2 Axes>"
      ]
     },
     "metadata": {
      "needs_background": "light"
     },
     "output_type": "display_data"
    }
   ],
   "source": [
    "# after handling outliers\n",
    "plt.figure(figsize = (15,4))\n",
    "plt.subplot(1,2,1)\n",
    "sns.boxplot(df['Bilirubin'], data  = df)\n",
    "plt.subplot(1,2,2) \n",
    "sns.boxplot(df['Cholesterol'], data  = df)\n",
    "plt.show();"
   ]
  },
  {
   "cell_type": "code",
   "execution_count": 17,
   "id": "b04620ec",
   "metadata": {},
   "outputs": [
    {
     "data": {
      "image/png": "[encoded data removed]",
      "text/plain": [
       "<Figure size 432x288 with 2 Axes>"
      ]
     },
     "metadata": {
      "needs_background": "light"
     },
     "output_type": "display_data"
    }
   ],
   "source": [
    "# Q2. C)\n",
    "sns.heatmap(df[['Bilirubin', 'Cholesterol']].corr(), annot = True);"
   ]
  },
  {
   "cell_type": "code",
   "execution_count": 18,
   "id": "5201e545",
   "metadata": {},
   "outputs": [
    {
     "data": {
      "image/png": "[encoded data removed]",
      "text/plain": [
       "<Figure size 720x360 with 1 Axes>"
      ]
     },
     "metadata": {
      "needs_background": "light"
     },
     "output_type": "display_data"
    }
   ],
   "source": [
    "'''Q3. A) How does the ratio of males to females changes as we go down the severity stage of cirrhosis from 1 to 4?\n",
    "comment for pattern. '''\n",
    "\n",
    "table = pd.pivot_table(df, index  = 'Stage', columns = 'Sex', aggfunc = 'size', fill_value = 0)\n",
    "table['M_ratio'] =  table['M']/table.sum(axis = 1)\n",
    "table['F_ratio'] =  table['F']/table.sum(axis = 1)\n",
    "table[['M_ratio','F_ratio']].plot(kind = 'bar',figsize  = (10,5));"
   ]
  },
  {
   "cell_type": "code",
   "execution_count": 19,
   "id": "395abeed",
   "metadata": {},
   "outputs": [
    {
     "data": {
      "text/plain": [
       "<AxesSubplot:xlabel='Stage', ylabel='Tryglicerides'>"
      ]
     },
     "execution_count": 19,
     "metadata": {},
     "output_type": "execute_result"
    },
    {
     "data": {
      "image/png": "[encoded data removed]",
      "text/plain": [
       "<Figure size 432x288 with 1 Axes>"
      ]
     },
     "metadata": {
      "needs_background": "light"
     },
     "output_type": "display_data"
    }
   ],
   "source": [
    "# Q3. B) Does the presence of triglycerides increase the stage severity of cirrhosis? Run a statistical test to prove the same.\n",
    "\n",
    "sns.barplot(y = 'Tryglicerides', x = 'Stage', data = df)"
   ]
  },
  {
   "cell_type": "code",
   "execution_count": 22,
   "id": "c112157c",
   "metadata": {},
   "outputs": [],
   "source": [
    "df.drop('age_bin', axis = 1, inplace = True)"
   ]
  },
  {
   "cell_type": "code",
   "execution_count": 23,
   "id": "53d15241",
   "metadata": {
    "scrolled": true
   },
   "outputs": [],
   "source": [
    "df.drop(['cholesterol', 'bilirubin', 'ID'], axis =1, inplace = True)\n"
   ]
  },
  {
   "cell_type": "code",
   "execution_count": 24,
   "id": "18a8039e",
   "metadata": {},
   "outputs": [],
   "source": [
    "df['Status'].replace({'D': 0, 'C': 1, 'CL':2}, inplace = True)"
   ]
  },
  {
   "cell_type": "code",
   "execution_count": 26,
   "id": "09bd13a6",
   "metadata": {},
   "outputs": [],
   "source": [
    "temp = df['Status']\n",
    "df.drop('Status', axis = 1, inplace = True)\n",
    "df['status'] = temp"
   ]
  },
  {
   "cell_type": "code",
   "execution_count": 31,
   "id": "706c0534",
   "metadata": {},
   "outputs": [
    {
     "data": {
      "text/html": [
       "<div>\n",
       "<style scoped>\n",
       "    .dataframe tbody tr th:only-of-type {\n",
       "        vertical-align: middle;\n",
       "    }\n",
       "\n",
       "    .dataframe tbody tr th {\n",
       "        vertical-align: top;\n",
       "    }\n",
       "\n",
       "    .dataframe thead th {\n",
       "        text-align: right;\n",
       "    }\n",
       "</style>\n",
       "<table border=\"1\" class=\"dataframe\">\n",
       "  <thead>\n",
       "    <tr style=\"text-align: right;\">\n",
       "      <th></th>\n",
       "      <th>N_Days</th>\n",
       "      <th>Age</th>\n",
       "      <th>Bilirubin</th>\n",
       "      <th>Cholesterol</th>\n",
       "      <th>Albumin</th>\n",
       "      <th>Copper</th>\n",
       "      <th>Alk_Phos</th>\n",
       "      <th>SGOT</th>\n",
       "      <th>Tryglicerides</th>\n",
       "      <th>Platelets</th>\n",
       "      <th>Prothrombin</th>\n",
       "      <th>Stage</th>\n",
       "      <th>status</th>\n",
       "    </tr>\n",
       "  </thead>\n",
       "  <tbody>\n",
       "    <tr>\n",
       "      <th>N_Days</th>\n",
       "      <td>1.000000</td>\n",
       "      <td>-0.122775</td>\n",
       "      <td>-0.454524</td>\n",
       "      <td>-0.120450</td>\n",
       "      <td>0.430829</td>\n",
       "      <td>-0.364809</td>\n",
       "      <td>0.149269</td>\n",
       "      <td>-0.225492</td>\n",
       "      <td>-0.153000</td>\n",
       "      <td>0.151361</td>\n",
       "      <td>-0.111470</td>\n",
       "      <td>-0.366193</td>\n",
       "      <td>0.289630</td>\n",
       "    </tr>\n",
       "    <tr>\n",
       "      <th>Age</th>\n",
       "      <td>-0.122775</td>\n",
       "      <td>1.000000</td>\n",
       "      <td>-0.011902</td>\n",
       "      <td>-0.176963</td>\n",
       "      <td>-0.181417</td>\n",
       "      <td>0.060422</td>\n",
       "      <td>-0.044525</td>\n",
       "      <td>-0.149357</td>\n",
       "      <td>0.022302</td>\n",
       "      <td>-0.148340</td>\n",
       "      <td>0.113257</td>\n",
       "      <td>0.188797</td>\n",
       "      <td>-0.291425</td>\n",
       "    </tr>\n",
       "    <tr>\n",
       "      <th>Bilirubin</th>\n",
       "      <td>-0.454524</td>\n",
       "      <td>-0.011902</td>\n",
       "      <td>1.000000</td>\n",
       "      <td>0.435144</td>\n",
       "      <td>-0.331294</td>\n",
       "      <td>0.528115</td>\n",
       "      <td>0.114939</td>\n",
       "      <td>0.510872</td>\n",
       "      <td>0.398179</td>\n",
       "      <td>-0.041153</td>\n",
       "      <td>0.297360</td>\n",
       "      <td>0.273547</td>\n",
       "      <td>-0.359160</td>\n",
       "    </tr>\n",
       "    <tr>\n",
       "      <th>Cholesterol</th>\n",
       "      <td>-0.120450</td>\n",
       "      <td>-0.176963</td>\n",
       "      <td>0.435144</td>\n",
       "      <td>1.000000</td>\n",
       "      <td>-0.034159</td>\n",
       "      <td>0.147472</td>\n",
       "      <td>0.181292</td>\n",
       "      <td>0.353340</td>\n",
       "      <td>0.379874</td>\n",
       "      <td>0.245657</td>\n",
       "      <td>-0.110394</td>\n",
       "      <td>0.007760</td>\n",
       "      <td>-0.121912</td>\n",
       "    </tr>\n",
       "    <tr>\n",
       "      <th>Albumin</th>\n",
       "      <td>0.430829</td>\n",
       "      <td>-0.181417</td>\n",
       "      <td>-0.331294</td>\n",
       "      <td>-0.034159</td>\n",
       "      <td>1.000000</td>\n",
       "      <td>-0.264771</td>\n",
       "      <td>-0.101456</td>\n",
       "      <td>-0.220047</td>\n",
       "      <td>-0.103417</td>\n",
       "      <td>0.158659</td>\n",
       "      <td>-0.200592</td>\n",
       "      <td>-0.305296</td>\n",
       "      <td>0.210913</td>\n",
       "    </tr>\n",
       "    <tr>\n",
       "      <th>Copper</th>\n",
       "      <td>-0.364809</td>\n",
       "      <td>0.060422</td>\n",
       "      <td>0.528115</td>\n",
       "      <td>0.147472</td>\n",
       "      <td>-0.264771</td>\n",
       "      <td>1.000000</td>\n",
       "      <td>0.187357</td>\n",
       "      <td>0.293829</td>\n",
       "      <td>0.279852</td>\n",
       "      <td>-0.064403</td>\n",
       "      <td>0.218224</td>\n",
       "      <td>0.269400</td>\n",
       "      <td>-0.268088</td>\n",
       "    </tr>\n",
       "    <tr>\n",
       "      <th>Alk_Phos</th>\n",
       "      <td>0.149269</td>\n",
       "      <td>-0.044525</td>\n",
       "      <td>0.114939</td>\n",
       "      <td>0.181292</td>\n",
       "      <td>-0.101456</td>\n",
       "      <td>0.187357</td>\n",
       "      <td>1.000000</td>\n",
       "      <td>0.112217</td>\n",
       "      <td>0.180082</td>\n",
       "      <td>0.143733</td>\n",
       "      <td>0.089384</td>\n",
       "      <td>0.041273</td>\n",
       "      <td>-0.216608</td>\n",
       "    </tr>\n",
       "    <tr>\n",
       "      <th>SGOT</th>\n",
       "      <td>-0.225492</td>\n",
       "      <td>-0.149357</td>\n",
       "      <td>0.510872</td>\n",
       "      <td>0.353340</td>\n",
       "      <td>-0.220047</td>\n",
       "      <td>0.293829</td>\n",
       "      <td>0.112217</td>\n",
       "      <td>1.000000</td>\n",
       "      <td>0.126119</td>\n",
       "      <td>-0.120147</td>\n",
       "      <td>0.112174</td>\n",
       "      <td>0.164945</td>\n",
       "      <td>-0.219250</td>\n",
       "    </tr>\n",
       "    <tr>\n",
       "      <th>Tryglicerides</th>\n",
       "      <td>-0.153000</td>\n",
       "      <td>0.022302</td>\n",
       "      <td>0.398179</td>\n",
       "      <td>0.379874</td>\n",
       "      <td>-0.103417</td>\n",
       "      <td>0.279852</td>\n",
       "      <td>0.180082</td>\n",
       "      <td>0.126119</td>\n",
       "      <td>1.000000</td>\n",
       "      <td>0.103212</td>\n",
       "      <td>0.020122</td>\n",
       "      <td>0.123899</td>\n",
       "      <td>-0.148841</td>\n",
       "    </tr>\n",
       "    <tr>\n",
       "      <th>Platelets</th>\n",
       "      <td>0.151361</td>\n",
       "      <td>-0.148340</td>\n",
       "      <td>-0.041153</td>\n",
       "      <td>0.245657</td>\n",
       "      <td>0.158659</td>\n",
       "      <td>-0.064403</td>\n",
       "      <td>0.143733</td>\n",
       "      <td>-0.120147</td>\n",
       "      <td>0.103212</td>\n",
       "      <td>1.000000</td>\n",
       "      <td>-0.167331</td>\n",
       "      <td>-0.253523</td>\n",
       "      <td>0.153006</td>\n",
       "    </tr>\n",
       "    <tr>\n",
       "      <th>Prothrombin</th>\n",
       "      <td>-0.111470</td>\n",
       "      <td>0.113257</td>\n",
       "      <td>0.297360</td>\n",
       "      <td>-0.110394</td>\n",
       "      <td>-0.200592</td>\n",
       "      <td>0.218224</td>\n",
       "      <td>0.089384</td>\n",
       "      <td>0.112174</td>\n",
       "      <td>0.020122</td>\n",
       "      <td>-0.167331</td>\n",
       "      <td>1.000000</td>\n",
       "      <td>0.207802</td>\n",
       "      <td>-0.334360</td>\n",
       "    </tr>\n",
       "    <tr>\n",
       "      <th>Stage</th>\n",
       "      <td>-0.366193</td>\n",
       "      <td>0.188797</td>\n",
       "      <td>0.273547</td>\n",
       "      <td>0.007760</td>\n",
       "      <td>-0.305296</td>\n",
       "      <td>0.269400</td>\n",
       "      <td>0.041273</td>\n",
       "      <td>0.164945</td>\n",
       "      <td>0.123899</td>\n",
       "      <td>-0.253523</td>\n",
       "      <td>0.207802</td>\n",
       "      <td>1.000000</td>\n",
       "      <td>-0.230868</td>\n",
       "    </tr>\n",
       "    <tr>\n",
       "      <th>status</th>\n",
       "      <td>0.289630</td>\n",
       "      <td>-0.291425</td>\n",
       "      <td>-0.359160</td>\n",
       "      <td>-0.121912</td>\n",
       "      <td>0.210913</td>\n",
       "      <td>-0.268088</td>\n",
       "      <td>-0.216608</td>\n",
       "      <td>-0.219250</td>\n",
       "      <td>-0.148841</td>\n",
       "      <td>0.153006</td>\n",
       "      <td>-0.334360</td>\n",
       "      <td>-0.230868</td>\n",
       "      <td>1.000000</td>\n",
       "    </tr>\n",
       "  </tbody>\n",
       "</table>\n",
       "</div>"
      ],
      "text/plain": [
       "                 N_Days       Age  Bilirubin  Cholesterol   Albumin    Copper  \\\n",
       "N_Days         1.000000 -0.122775  -0.454524    -0.120450  0.430829 -0.364809   \n",
       "Age           -0.122775  1.000000  -0.011902    -0.176963 -0.181417  0.060422   \n",
       "Bilirubin     -0.454524 -0.011902   1.000000     0.435144 -0.331294  0.528115   \n",
       "Cholesterol   -0.120450 -0.176963   0.435144     1.000000 -0.034159  0.147472   \n",
       "Albumin        0.430829 -0.181417  -0.331294    -0.034159  1.000000 -0.264771   \n",
       "Copper        -0.364809  0.060422   0.528115     0.147472 -0.264771  1.000000   \n",
       "Alk_Phos       0.149269 -0.044525   0.114939     0.181292 -0.101456  0.187357   \n",
       "SGOT          -0.225492 -0.149357   0.510872     0.353340 -0.220047  0.293829   \n",
       "Tryglicerides -0.153000  0.022302   0.398179     0.379874 -0.103417  0.279852   \n",
       "Platelets      0.151361 -0.148340  -0.041153     0.245657  0.158659 -0.064403   \n",
       "Prothrombin   -0.111470  0.113257   0.297360    -0.110394 -0.200592  0.218224   \n",
       "Stage         -0.366193  0.188797   0.273547     0.007760 -0.305296  0.269400   \n",
       "status         0.289630 -0.291425  -0.359160    -0.121912  0.210913 -0.268088   \n",
       "\n",
       "               Alk_Phos      SGOT  Tryglicerides  Platelets  Prothrombin  \\\n",
       "N_Days         0.149269 -0.225492      -0.153000   0.151361    -0.111470   \n",
       "Age           -0.044525 -0.149357       0.022302  -0.148340     0.113257   \n",
       "Bilirubin      0.114939  0.510872       0.398179  -0.041153     0.297360   \n",
       "Cholesterol    0.181292  0.353340       0.379874   0.245657    -0.110394   \n",
       "Albumin       -0.101456 -0.220047      -0.103417   0.158659    -0.200592   \n",
       "Copper         0.187357  0.293829       0.279852  -0.064403     0.218224   \n",
       "Alk_Phos       1.000000  0.112217       0.180082   0.143733     0.089384   \n",
       "SGOT           0.112217  1.000000       0.126119  -0.120147     0.112174   \n",
       "Tryglicerides  0.180082  0.126119       1.000000   0.103212     0.020122   \n",
       "Platelets      0.143733 -0.120147       0.103212   1.000000    -0.167331   \n",
       "Prothrombin    0.089384  0.112174       0.020122  -0.167331     1.000000   \n",
       "Stage          0.041273  0.164945       0.123899  -0.253523     0.207802   \n",
       "status        -0.216608 -0.219250      -0.148841   0.153006    -0.334360   \n",
       "\n",
       "                  Stage    status  \n",
       "N_Days        -0.366193  0.289630  \n",
       "Age            0.188797 -0.291425  \n",
       "Bilirubin      0.273547 -0.359160  \n",
       "Cholesterol    0.007760 -0.121912  \n",
       "Albumin       -0.305296  0.210913  \n",
       "Copper         0.269400 -0.268088  \n",
       "Alk_Phos       0.041273 -0.216608  \n",
       "SGOT           0.164945 -0.219250  \n",
       "Tryglicerides  0.123899 -0.148841  \n",
       "Platelets     -0.253523  0.153006  \n",
       "Prothrombin    0.207802 -0.334360  \n",
       "Stage          1.000000 -0.230868  \n",
       "status        -0.230868  1.000000  "
      ]
     },
     "execution_count": 31,
     "metadata": {},
     "output_type": "execute_result"
    }
   ],
   "source": [
    "\n",
    "df.corr()"
   ]
  },
  {
   "cell_type": "code",
   "execution_count": 32,
   "id": "3f24ac61",
   "metadata": {},
   "outputs": [],
   "source": [
    "X = df[['N_Days', 'Age', 'Bilirubin', 'Copper', 'Prothrombin', 'Stage']]"
   ]
  },
  {
   "cell_type": "code",
   "execution_count": 33,
   "id": "f1832bf1",
   "metadata": {},
   "outputs": [
    {
     "data": {
      "text/html": [
       "<div>\n",
       "<style scoped>\n",
       "    .dataframe tbody tr th:only-of-type {\n",
       "        vertical-align: middle;\n",
       "    }\n",
       "\n",
       "    .dataframe tbody tr th {\n",
       "        vertical-align: top;\n",
       "    }\n",
       "\n",
       "    .dataframe thead th {\n",
       "        text-align: right;\n",
       "    }\n",
       "</style>\n",
       "<table border=\"1\" class=\"dataframe\">\n",
       "  <thead>\n",
       "    <tr style=\"text-align: right;\">\n",
       "      <th></th>\n",
       "      <th>N_Days</th>\n",
       "      <th>Age</th>\n",
       "      <th>Bilirubin</th>\n",
       "      <th>Copper</th>\n",
       "      <th>Prothrombin</th>\n",
       "      <th>Stage</th>\n",
       "    </tr>\n",
       "  </thead>\n",
       "  <tbody>\n",
       "    <tr>\n",
       "      <th>0</th>\n",
       "      <td>400</td>\n",
       "      <td>59.0</td>\n",
       "      <td>7.3</td>\n",
       "      <td>156.0</td>\n",
       "      <td>12.2</td>\n",
       "      <td>4.0</td>\n",
       "    </tr>\n",
       "    <tr>\n",
       "      <th>1</th>\n",
       "      <td>4500</td>\n",
       "      <td>56.0</td>\n",
       "      <td>1.1</td>\n",
       "      <td>54.0</td>\n",
       "      <td>10.6</td>\n",
       "      <td>3.0</td>\n",
       "    </tr>\n",
       "    <tr>\n",
       "      <th>2</th>\n",
       "      <td>1012</td>\n",
       "      <td>70.0</td>\n",
       "      <td>1.4</td>\n",
       "      <td>210.0</td>\n",
       "      <td>12.0</td>\n",
       "      <td>4.0</td>\n",
       "    </tr>\n",
       "    <tr>\n",
       "      <th>3</th>\n",
       "      <td>1925</td>\n",
       "      <td>55.0</td>\n",
       "      <td>1.8</td>\n",
       "      <td>64.0</td>\n",
       "      <td>10.3</td>\n",
       "      <td>4.0</td>\n",
       "    </tr>\n",
       "    <tr>\n",
       "      <th>4</th>\n",
       "      <td>1504</td>\n",
       "      <td>38.0</td>\n",
       "      <td>3.4</td>\n",
       "      <td>143.0</td>\n",
       "      <td>10.9</td>\n",
       "      <td>3.0</td>\n",
       "    </tr>\n",
       "    <tr>\n",
       "      <th>...</th>\n",
       "      <td>...</td>\n",
       "      <td>...</td>\n",
       "      <td>...</td>\n",
       "      <td>...</td>\n",
       "      <td>...</td>\n",
       "      <td>...</td>\n",
       "    </tr>\n",
       "    <tr>\n",
       "      <th>413</th>\n",
       "      <td>681</td>\n",
       "      <td>67.0</td>\n",
       "      <td>1.2</td>\n",
       "      <td>NaN</td>\n",
       "      <td>10.9</td>\n",
       "      <td>3.0</td>\n",
       "    </tr>\n",
       "    <tr>\n",
       "      <th>414</th>\n",
       "      <td>1103</td>\n",
       "      <td>39.0</td>\n",
       "      <td>0.9</td>\n",
       "      <td>NaN</td>\n",
       "      <td>11.2</td>\n",
       "      <td>4.0</td>\n",
       "    </tr>\n",
       "    <tr>\n",
       "      <th>415</th>\n",
       "      <td>1055</td>\n",
       "      <td>57.0</td>\n",
       "      <td>1.6</td>\n",
       "      <td>NaN</td>\n",
       "      <td>9.9</td>\n",
       "      <td>3.0</td>\n",
       "    </tr>\n",
       "    <tr>\n",
       "      <th>416</th>\n",
       "      <td>691</td>\n",
       "      <td>58.0</td>\n",
       "      <td>0.8</td>\n",
       "      <td>NaN</td>\n",
       "      <td>10.4</td>\n",
       "      <td>3.0</td>\n",
       "    </tr>\n",
       "    <tr>\n",
       "      <th>417</th>\n",
       "      <td>976</td>\n",
       "      <td>53.0</td>\n",
       "      <td>0.7</td>\n",
       "      <td>NaN</td>\n",
       "      <td>10.6</td>\n",
       "      <td>4.0</td>\n",
       "    </tr>\n",
       "  </tbody>\n",
       "</table>\n",
       "<p>418 rows × 6 columns</p>\n",
       "</div>"
      ],
      "text/plain": [
       "     N_Days   Age  Bilirubin  Copper  Prothrombin  Stage\n",
       "0       400  59.0        7.3   156.0         12.2    4.0\n",
       "1      4500  56.0        1.1    54.0         10.6    3.0\n",
       "2      1012  70.0        1.4   210.0         12.0    4.0\n",
       "3      1925  55.0        1.8    64.0         10.3    4.0\n",
       "4      1504  38.0        3.4   143.0         10.9    3.0\n",
       "..      ...   ...        ...     ...          ...    ...\n",
       "413     681  67.0        1.2     NaN         10.9    3.0\n",
       "414    1103  39.0        0.9     NaN         11.2    4.0\n",
       "415    1055  57.0        1.6     NaN          9.9    3.0\n",
       "416     691  58.0        0.8     NaN         10.4    3.0\n",
       "417     976  53.0        0.7     NaN         10.6    4.0\n",
       "\n",
       "[418 rows x 6 columns]"
      ]
     },
     "execution_count": 33,
     "metadata": {},
     "output_type": "execute_result"
    }
   ],
   "source": [
    "X"
   ]
  },
  {
   "cell_type": "code",
   "execution_count": 40,
   "id": "7110ae6b",
   "metadata": {},
   "outputs": [],
   "source": [
    "from sklearn.impute import SimpleImputer\n",
    "si = SimpleImputer(missing_values=np.nan,strategy=\"mean\")\n",
    "si.fit(X)\n",
    "X = si.transform(X)"
   ]
  },
  {
   "cell_type": "code",
   "execution_count": 41,
   "id": "23e2c3e8",
   "metadata": {},
   "outputs": [
    {
     "data": {
      "text/plain": [
       "array([[4.00000000e+02, 5.90000000e+01, 7.30000000e+00, 1.56000000e+02,\n",
       "        1.22000000e+01, 4.00000000e+00],\n",
       "       [4.50000000e+03, 5.60000000e+01, 1.10000000e+00, 5.40000000e+01,\n",
       "        1.06000000e+01, 3.00000000e+00],\n",
       "       [1.01200000e+03, 7.00000000e+01, 1.40000000e+00, 2.10000000e+02,\n",
       "        1.20000000e+01, 4.00000000e+00],\n",
       "       ...,\n",
       "       [1.05500000e+03, 5.70000000e+01, 1.60000000e+00, 9.76483871e+01,\n",
       "        9.90000000e+00, 3.00000000e+00],\n",
       "       [6.91000000e+02, 5.80000000e+01, 8.00000000e-01, 9.76483871e+01,\n",
       "        1.04000000e+01, 3.00000000e+00],\n",
       "       [9.76000000e+02, 5.30000000e+01, 7.00000000e-01, 9.76483871e+01,\n",
       "        1.06000000e+01, 4.00000000e+00]])"
      ]
     },
     "execution_count": 41,
     "metadata": {},
     "output_type": "execute_result"
    }
   ],
   "source": [
    "X"
   ]
  },
  {
   "cell_type": "code",
   "execution_count": 124,
   "id": "5069506d",
   "metadata": {},
   "outputs": [],
   "source": []
  },
  {
   "cell_type": "code",
   "execution_count": 42,
   "id": "7f2d99e4",
   "metadata": {},
   "outputs": [],
   "source": [
    "y = df['status']"
   ]
  },
  {
   "cell_type": "code",
   "execution_count": 50,
   "id": "794b1887",
   "metadata": {},
   "outputs": [
    {
     "data": {
      "text/plain": [
       "'from sklearn.preprocessing import OneHotEncoder\\nfrom sklearn.compose import ColumnTransformer\\n\\nct = ColumnTransformer(transformers=[(\"encoder\", OneHotEncoder(), [1, 3, 4, 5, 6, 7])], remainder=\"passthrough\" )\\nX = np.array(ct.fit_transform(X))'"
      ]
     },
     "execution_count": 50,
     "metadata": {},
     "output_type": "execute_result"
    }
   ],
   "source": [
    "\"\"\"from sklearn.preprocessing import OneHotEncoder\n",
    "from sklearn.compose import ColumnTransformer\n",
    "\n",
    "ct = ColumnTransformer(transformers=[(\"encoder\", OneHotEncoder(), [1, 3, 4, 5, 6, 7])], remainder=\"passthrough\" )\n",
    "X = np.array(ct.fit_transform(X))\"\"\""
   ]
  },
  {
   "cell_type": "code",
   "execution_count": 44,
   "id": "c4f2e98b",
   "metadata": {},
   "outputs": [
    {
     "data": {
      "text/plain": [
       "array([[4.00000000e+02, 5.90000000e+01, 7.30000000e+00, 1.56000000e+02,\n",
       "        1.22000000e+01, 4.00000000e+00],\n",
       "       [4.50000000e+03, 5.60000000e+01, 1.10000000e+00, 5.40000000e+01,\n",
       "        1.06000000e+01, 3.00000000e+00],\n",
       "       [1.01200000e+03, 7.00000000e+01, 1.40000000e+00, 2.10000000e+02,\n",
       "        1.20000000e+01, 4.00000000e+00],\n",
       "       ...,\n",
       "       [1.05500000e+03, 5.70000000e+01, 1.60000000e+00, 9.76483871e+01,\n",
       "        9.90000000e+00, 3.00000000e+00],\n",
       "       [6.91000000e+02, 5.80000000e+01, 8.00000000e-01, 9.76483871e+01,\n",
       "        1.04000000e+01, 3.00000000e+00],\n",
       "       [9.76000000e+02, 5.30000000e+01, 7.00000000e-01, 9.76483871e+01,\n",
       "        1.06000000e+01, 4.00000000e+00]])"
      ]
     },
     "execution_count": 44,
     "metadata": {},
     "output_type": "execute_result"
    }
   ],
   "source": [
    "X"
   ]
  },
  {
   "cell_type": "code",
   "execution_count": 45,
   "id": "474d34db",
   "metadata": {},
   "outputs": [],
   "source": [
    "from sklearn.model_selection import train_test_split, cross_val_score\n",
    "\n",
    "X_train, X_test, y_train, y_test = train_test_split(X, y, test_size=0.2, random_state = 2)"
   ]
  },
  {
   "cell_type": "code",
   "execution_count": 46,
   "id": "0523605a",
   "metadata": {},
   "outputs": [],
   "source": [
    "from xgboost import XGBClassifier\n",
    "xg = XGBClassifier(eval_metric='mlogloss')\n",
    "xg.fit(X_train, y_train)\n",
    "y_predxg = xg.predict(X_test)"
   ]
  },
  {
   "cell_type": "code",
   "execution_count": 47,
   "id": "608a2bd3",
   "metadata": {},
   "outputs": [
    {
     "data": {
      "text/plain": [
       "<AxesSubplot:xlabel='status', ylabel='Density'>"
      ]
     },
     "execution_count": 47,
     "metadata": {},
     "output_type": "execute_result"
    },
    {
     "data": {
      "image/png": "[encoded data removed]",
      "text/plain": [
       "<Figure size 432x288 with 1 Axes>"
      ]
     },
     "metadata": {
      "needs_background": "light"
     },
     "output_type": "display_data"
    }
   ],
   "source": [
    "sns.distplot(y_test-y_predxg)"
   ]
  },
  {
   "cell_type": "code",
   "execution_count": 48,
   "id": "8ea5d821",
   "metadata": {},
   "outputs": [],
   "source": [
    "from sklearn.metrics import mean_absolute_error\n",
    "a = cross_val_score(estimator=xg, X=X_train, y=y_train, cv =10)\n"
   ]
  },
  {
   "cell_type": "code",
   "execution_count": 49,
   "id": "9b859a6a",
   "metadata": {},
   "outputs": [
    {
     "name": "stdout",
     "output_type": "stream",
     "text": [
      "XGBoost Mean Score : 0.2857142857142857\n",
      "XGBoost Accuracy : 74.83957219251337 %\n",
      "\n"
     ]
    }
   ],
   "source": [
    "print(f\"XGBoost Mean Score : {mean_absolute_error(y_test, y_predxg)}\")\n",
    "print(f\"XGBoost Accuracy : {a.mean()*100} %\\n\")"
   ]
  },
  {
   "cell_type": "code",
   "execution_count": 170,
   "id": "6743503a",
   "metadata": {},
   "outputs": [
    {
     "data": {
      "text/plain": [
       "array([1, 1, 1, 1, 1, 0, 1, 0, 1, 0, 1, 0, 0, 1, 0, 0, 2, 1, 1, 1, 0, 1,\n",
       "       1, 0, 1, 0, 1, 1, 0, 0, 1, 1, 0, 1, 0, 1, 1, 0, 0, 0, 0, 0, 0, 1,\n",
       "       1, 1, 1, 1, 0, 0, 1, 0, 0, 0, 1, 1, 1, 1, 0, 0, 1, 1, 0, 0, 1, 1,\n",
       "       1, 1, 0, 0, 1, 1, 1, 1, 1, 1, 1, 1, 1, 1, 1, 1, 0, 1], dtype=int64)"
      ]
     },
     "execution_count": 170,
     "metadata": {},
     "output_type": "execute_result"
    }
   ],
   "source": [
    "y_predxg"
   ]
  },
  {
   "cell_type": "code",
   "execution_count": null,
   "id": "b921ac58",
   "metadata": {},
   "outputs": [],
   "source": []
  }
 ],
 "metadata": {
  "kernelspec": {
   "display_name": "Python 3 (ipykernel)",
   "language": "python",
   "name": "python3"
  },
  "language_info": {
   "codemirror_mode": {
    "name": "ipython",
    "version": 3
   },
   "file_extension": ".py",
   "mimetype": "text/x-python",
   "name": "python",
   "nbconvert_exporter": "python",
   "pygments_lexer": "ipython3",
   "version": "3.9.7"
  }
 },
 "nbformat": 4,
 "nbformat_minor": 5
}
